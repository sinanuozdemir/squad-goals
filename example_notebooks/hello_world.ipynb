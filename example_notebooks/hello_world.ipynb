{
 "cells": [
  {
   "cell_type": "code",
   "execution_count": 2,
   "outputs": [],
   "source": [
    "from squad_goals import Agent, Task\n",
    "from squad_goals.tools import SerpTool\n",
    "from squad_goals.llms.openai import OpenAILLM\n",
    "import os\n",
    "\n",
    "# Set API keys as environment variables\n",
    "os.environ['SERP_API_KEY'] = 'your_openai_key'\n",
    "os.environ['OPENAI_API_KEY'] = 'your_serp_key'"
   ],
   "metadata": {
    "collapsed": false,
    "ExecuteTime": {
     "end_time": "2025-02-23T15:04:45.651908Z",
     "start_time": "2025-02-23T15:04:45.647251Z"
    }
   },
   "id": "18ae1344b6fd5de7"
  },
  {
   "cell_type": "code",
   "execution_count": 8,
   "outputs": [
    {
     "name": "stdout",
     "output_type": "stream",
     "text": [
      "As of my last update in October 2021, Sinan Özdemir is a Turkish professional wrestler, primarily known for his accomplishments in the amateur wrestling scene. He competes in various weight classes and has represented Turkey in international competitions.\n",
      "\n",
      "Özdemir has gained recognition for his skills and performances, but specific details about his career achievements, affiliations, and recent activities may have evolved since then. For the most accurate and updated information, I recommend checking the latest sports news or official wrestling federation announcements.\n"
     ]
    }
   ],
   "source": [
    "# Initialize the OpenAI LLM\n",
    "openai_llm = OpenAILLM(model_name='gpt-4o-mini')\n",
    "\n",
    "# A much cooler Sinan Ozdemir\n",
    "print(openai_llm.generate([{'role': 'user', 'content': 'Tell me about Sinan Ozdemir.'}]))\n"
   ],
   "metadata": {
    "collapsed": false,
    "ExecuteTime": {
     "end_time": "2025-02-23T15:06:24.080872Z",
     "start_time": "2025-02-23T15:06:22.264296Z"
    }
   },
   "id": "631764ee79b3cd65"
  },
  {
   "cell_type": "code",
   "execution_count": null,
   "outputs": [],
   "source": [],
   "metadata": {
    "collapsed": false
   },
   "id": "2b225ba0577c579a"
  },
  {
   "cell_type": "code",
   "execution_count": 9,
   "outputs": [
    {
     "name": "stdout",
     "output_type": "stream",
     "text": [
      "[{'title': 'Sinan Ozdemir - LoopGenius', 'link': 'https://www.linkedin.com/in/sinan-ozdemir', 'snippet': 'COO, Pledge Educator, Fundraising ... Held several executive positions in both the chapter at Johns Hopkins University and at the international level. Currently ...'}, {'title': 'Sinan Ozdemir', 'link': 'https://sinanozdemir.ai/', 'snippet': \"Hi! My name is Sinan Ozdemir. I'm an AI expert, consultant, author, and founder. The author of Quick Start Guide to LLMs (companion Github) and the AI ...\"}, {'title': 'Sinan Ozdemir: Books', 'link': 'https://www.amazon.com/Books-Sinan-Ozdemir/s?rh=n%3A283155%2Cp_27%3ASinan%2BOzdemir', 'snippet': \"A beginner's guide to essential math and coding skills for data fluency and machine learning by Sinan Ozdemir\"}, {'title': 'Sinan Ozdemir sinanuozdemir', 'link': 'https://github.com/sinanuozdemir', 'snippet': 'Data Scientist + Author + Entrepreneur. Check out my new book on LLMs on Amazon (Top 10 in AI/NLP). 534 followers · 3 following. LoopGenius.'}, {'title': 'Sinan Ozdemir (@Prof_OZ) / X', 'link': 'https://x.com/prof_oz?lang=en', 'snippet': 'NLP + Gen AI Expert / LLM whisperer. AI Author. Founder @Aikylie (acquired). Contributor on @Forbes. Fellow @YCombinator. San Francisco, CA.'}, {'title': 'Sinan Ozdemir', 'link': 'https://odsc.com/blog/speaker/sinan-ozdemir/', 'snippet': 'Sinan Ozdemir is a mathematician, data scientist, NLP expert, lecturer, and accomplished author. He is currently applying my extensive knowledge and ...'}, {'title': 'Sinan Ozdemir (@sinanozdemir)', 'link': 'https://www.instagram.com/sinanozdemir/', 'snippet': \"I trained my Santa this year Finally got my astro puppets I've dreamed since I was a kid but couldn't find anywhere I didn't know that I could produce a ...\"}, {'title': 'Sinan Ozdemir - Instructor', 'link': 'https://www.datacamp.com/portfolio/profoz', 'snippet': 'Sinan Ozdemir is a Data Scientist, Entrepreneur, Teacher, and Author. He is the founder of LoopGenius, a company that helps people get their first 100 customers ...'}, {'title': 'Sinan Ozdemir | Official Publisher Page', 'link': 'https://www.simonandschuster.com/authors/Sinan-Ozdemir/193768007', 'snippet': 'Author Alerts. Get updates about Sinan Ozdemir and recommended reads from Simon & Schuster. Plus, get a FREE ebook when you sign up!'}, {'title': 'Principles of Data Science by Sinan Ozdemir | eBook', 'link': 'https://www.barnesandnoble.com/w/principles-of-data-science-sinan-ozdemir/1123737982', 'snippet': 'About the Author. Sinan Ozdemir is a data scientist, startup founder, and educator living in the San Francisco Bay Area with his dog, Charlie; cat, Euclid; and ...'}]\n"
     ]
    }
   ],
   "source": [
    "# Initialize the SerpTool for web searching\n",
    "serp_tool = SerpTool()\n",
    "print(serp_tool.run(query='Sinan Ozdemir'))"
   ],
   "metadata": {
    "collapsed": false,
    "ExecuteTime": {
     "end_time": "2025-02-23T15:06:26.578926Z",
     "start_time": "2025-02-23T15:06:26.503627Z"
    }
   },
   "id": "472d5b30e7746798"
  },
  {
   "cell_type": "code",
   "execution_count": 10,
   "outputs": [],
   "source": [
    "# Create an agent with tools and an LLM\n",
    "agent = Agent(\n",
    "    tools=[serp_tool],\n",
    "    llm=openai_llm,\n",
    "    verbose=False\n",
    ")\n",
    "\n",
    "# Define a task with a goal\n",
    "lookup_task = Task(\n",
    "    name='Lookup',\n",
    "    goal='Tell me about Sinan Ozdemir. Only make one web search.',\n",
    ")"
   ],
   "metadata": {
    "collapsed": false,
    "ExecuteTime": {
     "end_time": "2025-02-23T15:06:39.110726Z",
     "start_time": "2025-02-23T15:06:39.106780Z"
    }
   },
   "id": "b41df2039314db7f"
  },
  {
   "cell_type": "code",
   "execution_count": 11,
   "outputs": [
    {
     "name": "stdout",
     "output_type": "stream",
     "text": [
      "{'event': 'agent_completed', 'final_answer': '\"Sinan Ozdemir is an accomplished data scientist, mathematician, and author based in the San Francisco Bay Area. He is recognized for his expertise in natural language processing (NLP) and generative AI, holding various roles including founder of LoopGenius and educator. Ozdemir has authored several books on data science and AI, including a \\'Quick Start Guide to LLMs.\\' He has contributed to platforms like Forbes and has been affiliated with Y Combinator. In addition to his professional achievements, he is also active on social media, sharing insights related to AI and data.\"'}\n"
     ]
    }
   ],
   "source": [
    "# Run the task with the agent\n",
    "events = agent.run(lookup_task)\n",
    "print(events[-1])"
   ],
   "metadata": {
    "collapsed": false,
    "ExecuteTime": {
     "end_time": "2025-02-23T15:06:48.238511Z",
     "start_time": "2025-02-23T15:06:44.764724Z"
    }
   },
   "id": "358b543acc66f757"
  },
  {
   "cell_type": "code",
   "execution_count": 19,
   "outputs": [
    {
     "name": "stdout",
     "output_type": "stream",
     "text": [
      "Event: next_agent_action | Tool: SerpAPI Tool\n",
      "Event: tool_selected | Tool: SerpAPI Tool\n",
      "Event: tool_run | Tool: SerpAPI Tool\n",
      "Event: tool_result | Tool: SerpAPI Tool\n",
      "Event: next_agent_action | Tool: Return Final Answer Tool\n",
      "Event: tool_selected | Tool: Return Final Answer Tool\n",
      "Event: tool_run | Tool: Return Final Answer Tool\n",
      "Event: tool_result | Tool: Return Final Answer Tool\n",
      "Event: agent_completed | Tool: None\n"
     ]
    }
   ],
   "source": [
    "for event in events:\n",
    "    print(f'Event: {event[\"event\"]} | Tool: {event.get(\"tool\", None)}')"
   ],
   "metadata": {
    "collapsed": false,
    "ExecuteTime": {
     "end_time": "2025-02-23T15:08:10.534511Z",
     "start_time": "2025-02-23T15:08:10.529306Z"
    }
   },
   "id": "7876054f7dd78ea3"
  },
  {
   "cell_type": "code",
   "execution_count": 22,
   "id": "17ff878d6ee19ab7",
   "metadata": {
    "collapsed": false,
    "ExecuteTime": {
     "end_time": "2025-02-23T15:08:40.152636Z",
     "start_time": "2025-02-23T15:08:33.531600Z"
    }
   },
   "outputs": [
    {
     "name": "stdout",
     "output_type": "stream",
     "text": [
      "{'event': 'agent_completed', 'final_answer': '\"Sinan Ozdemir is a prominent AI expert, data scientist, and entrepreneur known for his contributions to the fields of artificial intelligence and machine learning. He is the founder and CEO of LoopGenius, a company focused on leveraging AI to help startups and small businesses succeed. Sinan is also an accomplished author, having written multiple books on data science and AI, including the \\'Quick Start Guide to LLMs.\\' Additionally, he has been a lecturer at Johns Hopkins University where he taught data science courses. Sinan is actively involved in the AI community, speaking at conferences and contributing insights on natural language processing (NLP) and generative AI. His work has positioned him as a thought leader in the application of machine learning technologies in practical business contexts.\"'}\n"
     ]
    }
   ],
   "source": [
    "# Re-using an agent would keep the same context, re-initialize it to start fresh\n",
    "agent = Agent(\n",
    "    tools=[serp_tool],\n",
    "    llm=openai_llm,\n",
    "    verbose=False\n",
    ")\n",
    "# Create and run another task with multiple web lookups allowed\n",
    "wider_lookup_task = Task(\n",
    "    name='Lookup',\n",
    "    goal='Tell me about Sinan Ozdemir. Make multiple web lookups.',\n",
    ")\n",
    "\n",
    "events = agent.run(wider_lookup_task)\n",
    "print(events[-1])"
   ]
  },
  {
   "cell_type": "code",
   "execution_count": 26,
   "outputs": [
    {
     "name": "stdout",
     "output_type": "stream",
     "text": [
      "Event: next_agent_action | Tool: SerpAPI Tool. Tool Input: {'query': 'Sinan Ozdemir'}\n",
      "Event: tool_selected | Tool: SerpAPI Tool. Tool Input: None\n",
      "Event: tool_run | Tool: SerpAPI Tool. Tool Input: {'query': 'Sinan Ozdemir'}\n",
      "Event: tool_result | Tool: SerpAPI Tool. Tool Input: None\n",
      "Event: next_agent_action | Tool: SerpAPI Tool. Tool Input: {'query': 'Sinan Ozdemir AI expert biography'}\n",
      "Event: tool_selected | Tool: SerpAPI Tool. Tool Input: None\n",
      "Event: tool_run | Tool: SerpAPI Tool. Tool Input: {'query': 'Sinan Ozdemir AI expert biography'}\n",
      "Event: tool_result | Tool: SerpAPI Tool. Tool Input: None\n",
      "Event: next_agent_action | Tool: Return Final Answer Tool. Tool Input: {'final_answer': \"Sinan Ozdemir is a prominent AI expert, data scientist, and entrepreneur known for his contributions to the fields of artificial intelligence and machine learning. He is the founder and CEO of LoopGenius, a company focused on leveraging AI to help startups and small businesses succeed. Sinan is also an accomplished author, having written multiple books on data science and AI, including the 'Quick Start Guide to LLMs.' Additionally, he has been a lecturer at Johns Hopkins University where he taught data science courses. Sinan is actively involved in the AI community, speaking at conferences and contributing insights on natural language processing (NLP) and generative AI. His work has positioned him as a thought leader in the application of machine learning technologies in practical business contexts.\"}\n",
      "Event: tool_selected | Tool: Return Final Answer Tool. Tool Input: None\n",
      "Event: tool_run | Tool: Return Final Answer Tool. Tool Input: {'final_answer': \"Sinan Ozdemir is a prominent AI expert, data scientist, and entrepreneur known for his contributions to the fields of artificial intelligence and machine learning. He is the founder and CEO of LoopGenius, a company focused on leveraging AI to help startups and small businesses succeed. Sinan is also an accomplished author, having written multiple books on data science and AI, including the 'Quick Start Guide to LLMs.' Additionally, he has been a lecturer at Johns Hopkins University where he taught data science courses. Sinan is actively involved in the AI community, speaking at conferences and contributing insights on natural language processing (NLP) and generative AI. His work has positioned him as a thought leader in the application of machine learning technologies in practical business contexts.\"}\n",
      "Event: tool_result | Tool: Return Final Answer Tool. Tool Input: None\n",
      "Event: agent_completed | Tool: None. Tool Input: None\n"
     ]
    }
   ],
   "source": [
    "for event in events:\n",
    "    print(f'Event: {event[\"event\"]} | Tool: {event.get(\"tool\", None)}. Tool Input: {event.get(\"tool_input\", None)}')"
   ],
   "metadata": {
    "collapsed": false,
    "ExecuteTime": {
     "end_time": "2025-02-23T15:09:19.395368Z",
     "start_time": "2025-02-23T15:09:19.390877Z"
    }
   },
   "id": "613ff9cd3a67050"
  },
  {
   "cell_type": "code",
   "execution_count": null,
   "outputs": [],
   "source": [],
   "metadata": {
    "collapsed": false
   },
   "id": "4efca1ef24859250"
  }
 ],
 "metadata": {
  "kernelspec": {
   "display_name": "Python 3 (ipykernel)",
   "language": "python",
   "name": "python3"
  },
  "language_info": {
   "codemirror_mode": {
    "name": "ipython",
    "version": 3
   },
   "file_extension": ".py",
   "mimetype": "text/x-python",
   "name": "python",
   "nbconvert_exporter": "python",
   "pygments_lexer": "ipython3",
   "version": "3.9.6"
  }
 },
 "nbformat": 4,
 "nbformat_minor": 5
}
