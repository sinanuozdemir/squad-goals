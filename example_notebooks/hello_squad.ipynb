{
 "cells": [
  {
   "cell_type": "code",
   "execution_count": 1,
   "outputs": [],
   "source": [
    "from squad_goals import Agent, Task, Plan, Workflow\n",
    "from squad_goals.tools import SerpTool\n",
    "from squad_goals.llms.openai import OpenAILLM\n",
    "from squad_goals.llms.groq import GroqLLM\n",
    "from squad_goals.tools import SerpTool\n",
    "import os\n",
    "\n",
    "# Set API keys as environment variables\n",
    "os.environ['SERP_API_KEY'] = 'your_openai_key'\n",
    "os.environ['GROQ_API_KEY'] = 'your_groq_key'\n",
    "\n",
    "os.environ['OPENAI_API_KEY'] = 'your_serp_key'"
   ],
   "metadata": {
    "collapsed": false,
    "ExecuteTime": {
     "end_time": "2025-02-23T15:09:54.814517Z",
     "start_time": "2025-02-23T15:09:54.708918Z"
    }
   },
   "id": "18ae1344b6fd5de7"
  },
  {
   "cell_type": "code",
   "execution_count": 8,
   "outputs": [],
   "source": [
    "# Initialize the OpenAI LLM\n",
    "openai_llm = OpenAILLM(model_name='gpt-4o')\n",
    "groq_llm = GroqLLM(model_name='gemma2-9b-it')"
   ],
   "metadata": {
    "collapsed": false,
    "ExecuteTime": {
     "end_time": "2025-02-23T15:11:25.173512Z",
     "start_time": "2025-02-23T15:11:25.153311Z"
    }
   },
   "id": "631764ee79b3cd65"
  },
  {
   "cell_type": "code",
   "execution_count": 9,
   "outputs": [
    {
     "name": "stdout",
     "output_type": "stream",
     "text": [
      "2.67 s ± 453 ms per loop (mean ± std. dev. of 7 runs, 1 loop each)\n"
     ]
    }
   ],
   "source": [
    "%timeit openai_llm.generate([{'role': 'user', 'content': 'Tell me about Sinan Ozdemir.'}])"
   ],
   "metadata": {
    "collapsed": false,
    "ExecuteTime": {
     "end_time": "2025-02-23T15:12:04.352914Z",
     "start_time": "2025-02-23T15:11:42.712990Z"
    }
   },
   "id": "829907110ab8ac72"
  },
  {
   "cell_type": "code",
   "execution_count": 10,
   "outputs": [
    {
     "name": "stdout",
     "output_type": "stream",
     "text": [
      "260 ms ± 75.6 ms per loop (mean ± std. dev. of 7 runs, 1 loop each)\n"
     ]
    }
   ],
   "source": [
    "%timeit groq_llm.generate([{'role': 'user', 'content': 'Tell me about Sinan Ozdemir.'}])"
   ],
   "metadata": {
    "collapsed": false,
    "ExecuteTime": {
     "end_time": "2025-02-23T15:12:06.646068Z",
     "start_time": "2025-02-23T15:12:04.351459Z"
    }
   },
   "id": "91633bf9ee028978"
  },
  {
   "cell_type": "code",
   "execution_count": null,
   "outputs": [],
   "source": [],
   "metadata": {
    "collapsed": false
   },
   "id": "c189ad6c462ff68"
  },
  {
   "cell_type": "code",
   "execution_count": 11,
   "outputs": [],
   "source": [
    "# Initialize the SerpTool for web searching\n",
    "serp_tool = SerpTool()"
   ],
   "metadata": {
    "collapsed": false,
    "ExecuteTime": {
     "end_time": "2025-02-23T15:12:06.646506Z",
     "start_time": "2025-02-23T15:12:06.639194Z"
    }
   },
   "id": "472d5b30e7746798"
  },
  {
   "cell_type": "code",
   "execution_count": 12,
   "outputs": [],
   "source": [
    "# Create an agent with tools and an LLM\n",
    "agent_big = Agent(\n",
    "    tools=[serp_tool],\n",
    "    llm=openai_llm,\n",
    "    verbose=False\n",
    ")\n",
    "agent_small = Agent(\n",
    "    tools=[],\n",
    "    llm=groq_llm,\n",
    "    verbose=False\n",
    ")"
   ],
   "metadata": {
    "collapsed": false,
    "ExecuteTime": {
     "end_time": "2025-02-23T15:12:52.400875Z",
     "start_time": "2025-02-23T15:12:52.386880Z"
    }
   },
   "id": "b41df2039314db7f"
  },
  {
   "cell_type": "code",
   "execution_count": 36,
   "outputs": [],
   "source": [
    "goal = 'Tell me about Sinan Ozdemir.'\n",
    "steps = [\n",
    "    'Make at least 2 web lookups about Sinan Ozdemir.',\n",
    "    'Summarize the information you found about Sinan Ozdemir in a few sentences in Turkish.'\n",
    "]"
   ],
   "metadata": {
    "collapsed": false,
    "ExecuteTime": {
     "end_time": "2025-02-23T15:16:47.132954Z",
     "start_time": "2025-02-23T15:16:47.127492Z"
    }
   },
   "id": "c4b400dc3d98b133"
  },
  {
   "cell_type": "code",
   "execution_count": 37,
   "outputs": [
    {
     "name": "stdout",
     "output_type": "stream",
     "text": [
      "Event: next_step | Tool: None\n",
      "Event: next_agent_action | Tool: Return Final Answer Tool\n",
      "Event: tool_selected | Tool: Return Final Answer Tool\n",
      "Event: tool_run | Tool: Return Final Answer Tool\n",
      "Event: tool_result | Tool: Return Final Answer Tool\n",
      "Event: agent_completed | Tool: None\n",
      "Event: step_result | Tool: None\n",
      "Event: next_step | Tool: None\n",
      "Event: next_agent_action | Tool: Return Final Answer Tool\n",
      "Event: tool_selected | Tool: Return Final Answer Tool\n",
      "Event: tool_run | Tool: Return Final Answer Tool\n",
      "Event: tool_result | Tool: Return Final Answer Tool\n",
      "Event: agent_completed | Tool: None\n",
      "Event: step_result | Tool: None\n",
      "Event: workflow_complete | Tool: None\n"
     ]
    }
   ],
   "source": [
    "plan = Plan(\n",
    "    goal=goal, \n",
    "    steps=steps\n",
    ")\n",
    "workflow = Workflow(\n",
    "    plan=plan,\n",
    "    agents=[agent_big, agent_small],  # our squad!\n",
    "    goal=goal\n",
    ")\n",
    "for event in workflow.run(yield_events=True):\n",
    "    print(f'Event: {event[\"event\"]} | Tool: {event.get(\"tool\", None)}')"
   ],
   "metadata": {
    "collapsed": false,
    "ExecuteTime": {
     "end_time": "2025-02-23T15:16:50.354157Z",
     "start_time": "2025-02-23T15:16:48.347567Z"
    }
   },
   "id": "358b543acc66f757"
  },
  {
   "cell_type": "code",
   "execution_count": 38,
   "outputs": [
    {
     "data": {
      "text/plain": "{'event': 'workflow_complete',\n 'results': ['\"Sinan Ozdemir is an AI expert, consultant, author, and founder of LoopGenius. He has written several books, including the \\'Quick Start Guide to LLMs,\\' and has held teaching positions, notably at Johns Hopkins University. He is recognized for his expertise in Generative AI and NLP and has made contributions to healthcare data analytics.\"',\n  '\"Sinan Ozdemir, yapay zeka uzman\\\\u0131, dan\\\\u0131\\\\u015fman, yazar ve LoopGenius\\'in kurucusudur. \\'H\\\\u0131zl\\\\u0131 Ba\\\\u015flang\\\\u0131\\\\u00e7 Rehberi LLMs\\' dahil olmak \\\\u00fczere birka\\\\u00e7 kitap yazm\\\\u0131\\\\u015ft\\\\u0131r ve Johns Hopkins \\\\u00dcniversitesi\\'nde ders vermi\\\\u015f. Generatif yapay zeka ve NLP alanlar\\\\u0131nda uzmanl\\\\u0131\\\\u011f\\\\u0131 ile bilinir ve sa\\\\u011fl\\\\u0131k veri analizi alan\\\\u0131nda katk\\\\u0131larda bulunmu\\\\u015ftur.\"']}"
     },
     "execution_count": 38,
     "metadata": {},
     "output_type": "execute_result"
    }
   ],
   "source": [
    "event"
   ],
   "metadata": {
    "collapsed": false,
    "ExecuteTime": {
     "end_time": "2025-02-23T15:16:50.355844Z",
     "start_time": "2025-02-23T15:16:50.350758Z"
    }
   },
   "id": "7876054f7dd78ea3"
  },
  {
   "cell_type": "code",
   "execution_count": 49,
   "outputs": [
    {
     "name": "stdout",
     "output_type": "stream",
     "text": [
      "### Step ###\n",
      "Make at least 2 web lookups about Sinan Ozdemir.\n",
      "### Result ###\n",
      "Sinan Ozdemir is an AI expert, consultant, author, and founder of LoopGenius. He has written several books, including the 'Quick Start Guide to LLMs,' and has held teaching positions, notably at Johns Hopkins University. He is recognized for his expertise in Generative AI and NLP and has made contributions to healthcare data analytics.\n",
      "\n",
      "### Step ###\n",
      "Summarize the information you found about Sinan Ozdemir in a few sentences in Turkish.\n",
      "### Result ###\n",
      "Sinan Ozdemir, yapay zeka uzmanı, danışman, yazar ve LoopGenius'in kurucusudur. 'Hızlı Başlangıç Rehberi LLMs' dahil olmak üzere birkaç kitap yazmıştır ve Johns Hopkins Üniversitesi'nde ders vermiş. Generatif yapay zeka ve NLP alanlarında uzmanlığı ile bilinir ve sağlık veri analizi alanında katkılarda bulunmuştur.\n"
     ]
    }
   ],
   "source": [
    "import ast\n",
    "\n",
    "for step, result in zip(steps, plan.results):\n",
    "    print('### Step ###')\n",
    "    print(step)\n",
    "    print('### Result ###')\n",
    "    try:\n",
    "        print(ast.literal_eval(result))  # to print Turkish characters correctly\n",
    "    except (SyntaxError, ValueError):\n",
    "        print(result)\n",
    "    print()\n"
   ],
   "metadata": {
    "collapsed": false,
    "ExecuteTime": {
     "end_time": "2025-02-23T15:18:41.601523Z",
     "start_time": "2025-02-23T15:18:41.597560Z"
    }
   },
   "id": "4efca1ef24859250"
  },
  {
   "cell_type": "code",
   "execution_count": null,
   "outputs": [],
   "source": [],
   "metadata": {
    "collapsed": false
   },
   "id": "d4c0c931d9696587"
  }
 ],
 "metadata": {
  "kernelspec": {
   "display_name": "Python 3 (ipykernel)",
   "language": "python",
   "name": "python3"
  },
  "language_info": {
   "codemirror_mode": {
    "name": "ipython",
    "version": 3
   },
   "file_extension": ".py",
   "mimetype": "text/x-python",
   "name": "python",
   "nbconvert_exporter": "python",
   "pygments_lexer": "ipython3",
   "version": "3.9.6"
  }
 },
 "nbformat": 4,
 "nbformat_minor": 5
}
